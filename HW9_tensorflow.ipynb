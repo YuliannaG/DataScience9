{
  "nbformat": 4,
  "nbformat_minor": 0,
  "metadata": {
    "kernelspec": {
      "display_name": "Python 3",
      "language": "python",
      "name": "python3"
    },
    "language_info": {
      "codemirror_mode": {
        "name": "ipython",
        "version": 3
      },
      "file_extension": ".py",
      "mimetype": "text/x-python",
      "name": "python",
      "nbconvert_exporter": "python",
      "pygments_lexer": "ipython3",
      "version": "3.8.0"
    },
    "colab": {
      "provenance": [],
      "include_colab_link": true
    },
    "accelerator": "GPU"
  },
  "cells": [
    {
      "cell_type": "markdown",
      "metadata": {
        "id": "view-in-github",
        "colab_type": "text"
      },
      "source": [
        "<a href=\"https://colab.research.google.com/github/YuliannaG/DataScience9/blob/main/HW9_tensorflow.ipynb\" target=\"_parent\"><img src=\"https://colab.research.google.com/assets/colab-badge.svg\" alt=\"Open In Colab\"/></a>"
      ]
    },
    {
      "cell_type": "markdown",
      "metadata": {
        "id": "b0Yf4NBJUSNM"
      },
      "source": [
        "# Создание нейронной сети\n",
        "\n",
        "В этом задании мы создадим полносвязную нейронную сеть используя при этом низкоуровневые механизмы tensorflow.\n",
        "\n",
        "Архитектутра нейросети представлена на следующем рисунке. Как видите, в ней имеется один входной слой, два скрытых, а так же выходной слой. В качестве активационной функции в скрытых слоях будет использоваться сигмоида. На выходном слое мы используем softmax.\n",
        "\n",
        "Часть кода по созданию сети уже написана, от вас требуется заполнить пропуски в указанных местах."
      ]
    },
    {
      "cell_type": "markdown",
      "metadata": {
        "id": "01rZWUu0USNQ"
      },
      "source": [
        "## Архитектура нейронной сети\n",
        "\n",
        "<img src=\"http://cs231n.github.io/assets/nn1/neural_net2.jpeg\" alt=\"nn\" style=\"width: 400px;\"/>\n"
      ]
    },
    {
      "cell_type": "markdown",
      "metadata": {
        "id": "LLvIZ705Qw_V"
      },
      "source": [
        "## О датасете MNIST\n",
        "\n",
        "Данную нейросеть мы будем обучать на датасете MNIST. Этот датасет представляет собой большое количество изображений рукописных цифр размером $28 \\times 28$ пикселей. Каждый пиксель принимает значение от 0 до 255.\n",
        "\n",
        "Как и раньше датасет будет разеделен на обучающую и тестовую выборки. При этом мы выполним нормализацию всех изображений, чтобы значения пикселей находились в промежутке от 0 до 1, разделив яркость каждого пикселя на 255.\n",
        "\n",
        "Кроме того, архитектура нейронной сети ожидает на вход вектор. В нашем же случае каждый объект выборки представляет собой матрицу. Что же делать? В этом задании мы \"растянем\" матрицу $28 \\times 28$, получив при этом вектор, состоящей из 784 элементов.\n",
        "\n",
        "![MNIST Dataset](https://www.researchgate.net/profile/Steven-Young-5/publication/306056875/figure/fig1/AS:393921575309346@1470929630835/Example-images-from-the-MNIST-dataset.png)\n",
        "\n",
        "Больше информации о датасете можно найти [здесь](http://yann.lecun.com/exdb/mnist/)."
      ]
    },
    {
      "cell_type": "code",
      "metadata": {
        "id": "il_0_5OyUSNR"
      },
      "source": [
        "import tensorflow as tf\n",
        "import numpy as np\n",
        "import matplotlib.pyplot as plt"
      ],
      "execution_count": 41,
      "outputs": []
    },
    {
      "cell_type": "code",
      "metadata": {
        "id": "cd-1_abTUSNS"
      },
      "source": [
        "num_classes = 10 # общее количество классов, в нашем случае это цифры от 0 до 9\n",
        "num_features = 784 # количество атрибутов входного вектора 28 * 28 = 784\n",
        "\n",
        "learning_rate = 0.001 # скорость обучения нейронной сети\n",
        "training_steps = 3000 # максимальное число эпох\n",
        "batch_size = 256 # пересчитывать веса сети мы будем не на всей выборке, а на ее случайном подможестве из batch_size элементов\n",
        "display_step = 100 # каждые 100 итераций мы будем показывать текущее значение функции потерь и точности\n",
        "\n",
        "n_hidden_1 = 128 # количество нейронов 1-го слоя\n",
        "n_hidden_2 = 256 # количество нейронов 2-го слоя"
      ],
      "execution_count": 42,
      "outputs": []
    },
    {
      "cell_type": "code",
      "metadata": {
        "id": "pGTXiRyTUSNT"
      },
      "source": [
        "from tensorflow.keras.datasets import mnist\n",
        "\n",
        "# Загружаем датасет\n",
        "(x_train, y_train), (x_test, y_test) = mnist.load_data()\n",
        "\n",
        "# Преобразуем целочисленные пиксели к типа float32\n",
        "x_train, x_test = np.array(x_train, np.float32), np.array(x_test, np.float32)\n",
        "\n",
        "# Преобразуем матрицы размером 28x28 пикселей в вектор из 784 элементов\n",
        "x_train, x_test = x_train.reshape([-1, num_features]), x_test.reshape([-1, num_features])\n",
        "\n",
        "# Нормализуем значения пикселей\n",
        "x_train, x_test = x_train / 255., x_test / 255.\n",
        "\n",
        "# Перемешаем тренировочные данные\n",
        "train_data = tf.data.Dataset.from_tensor_slices((x_train, y_train))\n",
        "train_data = train_data.repeat().shuffle(5000).batch(batch_size).prefetch(1)"
      ],
      "execution_count": 43,
      "outputs": []
    },
    {
      "cell_type": "code",
      "metadata": {
        "id": "FkRmCQjnUSNV"
      },
      "source": [
        "# Создадим нейронную сеть\n",
        "\n",
        "class DenseLayer(tf.Module):\n",
        "    def __init__(self, in_features, out_features, name=None):\n",
        "        super().__init__(name=name)\n",
        "        self.w = tf.Variable(\n",
        "            tf.random.normal([in_features, out_features]), name=\"weight\"\n",
        "        )\n",
        "        self.b = tf.Variable(tf.zeros([out_features]), name=\"bias\")\n",
        "\n",
        "    def __call__(self, x):\n",
        "        y = tf.matmul(x, self.w) + self.b\n",
        "        return tf.nn.relu(y)\n",
        "\n",
        "\n",
        "class NN(tf.Module):\n",
        "  def __init__(self, name=None):\n",
        "    super().__init__(name=name)\n",
        "    # Первый слой, состоящий из 128 нейронов\n",
        "    self.layer_1 = DenseLayer(in_features=784, out_features=128)\n",
        "\n",
        "    # Второй слой, состоящий из 256 нейронов\n",
        "    self.layer_2 = DenseLayer(in_features=128, out_features=256)\n",
        "\n",
        "    # Выходной слой\n",
        "    self.layer_exit = DenseLayer(in_features=256, out_features=10)\n",
        "    # Место для вашего кода\n",
        "\n",
        "  def __call__(self, x):\n",
        "    x = self.layer_1(x)\n",
        "    x = self.layer_2(x)\n",
        "    x = self.layer_exit(x)\n",
        "\n",
        "    # Помните что для выхода нейронной сети мы применяем к выходу функцию softmax. \n",
        "    # Делаем мы это для того, чтобы\n",
        "    # выход нейронной сети принимал значения от 0 до 1 в соответствии с вероятностью \n",
        "    # принадлежности входного объекта к одному из 10 классов\n",
        "\n",
        "    return tf.nn.softmax(x)"
      ],
      "execution_count": 44,
      "outputs": []
    },
    {
      "cell_type": "code",
      "metadata": {
        "id": "LIf3o7VAUSNV"
      },
      "source": [
        "# В качестве функции ошибки в данном случае удобно взять кросс-энтропию\n",
        "def cross_entropy(y_pred, y_true):\n",
        "    # Encode label to a one hot vector.\n",
        "    y_true = tf.one_hot(y_true, depth=num_classes)\n",
        "\n",
        "    # Clip prediction values to avoid log(0) error.\n",
        "    y_pred = tf.clip_by_value(y_pred, 1e-9, 1.)\n",
        "\n",
        "    # Вычисление кросс-энтропии\n",
        "    return tf.reduce_mean(-tf.reduce_sum(y_true * tf.math.log(y_pred)))\n",
        "\n",
        "# В качестве метрики качества используем точность\n",
        "def accuracy(y_pred, y_true):\n",
        "    correct_prediction = tf.equal(tf.argmax(y_pred,1),tf.cast(y_true,tf.int64))\n",
        "    return tf.reduce_mean(tf.cast(correct_prediction,tf.float32))"
      ],
      "execution_count": 45,
      "outputs": []
    },
    {
      "cell_type": "code",
      "metadata": {
        "id": "MQeT1yatUSNW"
      },
      "source": [
        "from numpy.lib.nanfunctions import nanargmax\n",
        "# Создадим экзампляр нейронной сети\n",
        "neural_net = NN(name=\"mnist\")\n",
        "W = tf.Variable(tf.ones([num_features,num_classes]),name='weight')\n",
        "b = tf.Variable(tf.zeros([num_classes]),name='bias')\n",
        "# Для подгонки весов сети будем использовать стохастический градиентный спуск\n",
        "optimizer = tf.optimizers.SGD(learning_rate)\n",
        "\n",
        "# Функция обучения нейросети\n",
        "def train(nn, input_x, output_y):\n",
        "# Активация автоматического дифференцирования\n",
        "  with tf.GradientTape() as g:\n",
        "    pred = neural_net(input_x)\n",
        "    loss = cross_entropy(pred, output_y)\n",
        "    \n",
        "  # Создадим оптимизируемых список параметров\n",
        "  gradients = g.gradient(loss, [nn.layer_1.w, nn.layer_1.b])\n",
        "  dw,db = gradients\n",
        "  # Вычислим по ним значение градиента\n",
        "  optimizer.apply_gradients(zip(gradients,[nn.layer_1.w, nn.layer_1.b]))\n",
        "\n",
        "  # Модифицируем параметры\n",
        "  nn.layer_1.w.assign_sub(learning_rate * dw)\n",
        "  nn.layer_1.b.assign_sub(learning_rate * db)"
      ],
      "execution_count": 46,
      "outputs": []
    },
    {
      "cell_type": "code",
      "metadata": {
        "id": "fnyns9lBfpQZ",
        "colab": {
          "base_uri": "https://localhost:8080/"
        },
        "outputId": "f7473079-05ab-455c-ba10-e27f308289e0"
      },
      "source": [
        "# Тренировка сети\n",
        "\n",
        "loss_history = []  # каждые display_step шагов сохраняйте в этом список текущую ошибку нейросети\n",
        "accuracy_history = [] # каждые display_step шагов сохраняйте в этом список текущую точность нейросети\n",
        "\n",
        "# В этом цикле мы будем производить обучение нейронной сети\n",
        "# из тренировочного датасета train_data извлеките случайное подмножество, на котором \n",
        "# произведется тренировка. Используйте метод take, доступный для тренировочного датасета.\n",
        "for step, (batch_x, batch_y) in enumerate(train_data.take(training_steps)):\n",
        "  train(neural_net, batch_x, batch_y)\n",
        "  # Обновляем веса нейронной сети\n",
        "  # Место для вашего кода\n",
        "  if step % display_step == 0:\n",
        "      pred = neural_net(batch_x)\n",
        "      loss = cross_entropy(pred, batch_y)\n",
        "      loss_history.append(loss)\n",
        "      acc = accuracy(pred, batch_y)\n",
        "      accuracy_history.append(acc)\n",
        "      print(f'step: {step}, loss: {loss}, acc: {acc}')\n",
        "      "
      ],
      "execution_count": 47,
      "outputs": [
        {
          "output_type": "stream",
          "name": "stdout",
          "text": [
            "step: 0, loss: 4683.4599609375, acc: 0.1171875\n",
            "step: 100, loss: 3398.61572265625, acc: 0.359375\n",
            "step: 200, loss: 3585.125244140625, acc: 0.32421875\n",
            "step: 300, loss: 3087.766845703125, acc: 0.41796875\n",
            "step: 400, loss: 2347.22314453125, acc: 0.5546875\n",
            "step: 500, loss: 2273.10009765625, acc: 0.5703125\n",
            "step: 600, loss: 2963.427001953125, acc: 0.44140625\n",
            "step: 700, loss: 1968.7103271484375, acc: 0.62890625\n",
            "step: 800, loss: 2155.2197265625, acc: 0.59375\n",
            "step: 900, loss: 2175.94287109375, acc: 0.58984375\n",
            "step: 1000, loss: 1868.492919921875, acc: 0.64453125\n",
            "step: 1100, loss: 2403.89892578125, acc: 0.546875\n",
            "step: 1200, loss: 2010.1568603515625, acc: 0.62109375\n",
            "step: 1300, loss: 1927.2637939453125, acc: 0.63671875\n",
            "step: 1400, loss: 1968.7103271484375, acc: 0.62890625\n",
            "step: 1500, loss: 1947.9873046875, acc: 0.6328125\n",
            "step: 1600, loss: 1616.414794921875, acc: 0.6953125\n",
            "step: 1700, loss: 2051.603515625, acc: 0.61328125\n",
            "step: 1800, loss: 1865.093994140625, acc: 0.6484375\n",
            "step: 1900, loss: 2238.11279296875, acc: 0.578125\n",
            "step: 2000, loss: 1968.7103271484375, acc: 0.62890625\n",
            "step: 2100, loss: 1696.69384765625, acc: 0.6796875\n",
            "step: 2200, loss: 2030.880126953125, acc: 0.6171875\n",
            "step: 2300, loss: 1927.2637939453125, acc: 0.63671875\n",
            "step: 2400, loss: 1678.5845947265625, acc: 0.68359375\n",
            "step: 2500, loss: 1844.3707275390625, acc: 0.65234375\n",
            "step: 2600, loss: 1947.9871826171875, acc: 0.6328125\n",
            "step: 2700, loss: 2010.1568603515625, acc: 0.62109375\n",
            "step: 2800, loss: 1947.987060546875, acc: 0.6328125\n",
            "step: 2900, loss: 1678.5845947265625, acc: 0.68359375\n"
          ]
        }
      ]
    },
    {
      "cell_type": "code",
      "metadata": {
        "id": "_yCBfG6MbQB2",
        "colab": {
          "base_uri": "https://localhost:8080/",
          "height": 612
        },
        "outputId": "b4711856-3c57-4d7e-ff48-7da0015200d9"
      },
      "source": [
        "# Выведите графики зависимости изменения точности и потерь от шага\n",
        "# Если все сделано правильно, то точность должна расти, а потери уменьшаться\n",
        "fig, axs = plt.subplots(figsize=(16,10))\n",
        "axs.plot(loss_history, 'r', label = 'loss', linestyle = ':')\n",
        "axs.legend()\n",
        "\n",
        "axs2 = axs.twinx()\n",
        "axs2.plot(accuracy_history, 'b', label = 'accuracy', linestyle = ':')\n",
        "plt.legend()\n",
        "\n",
        "plt.title('Залежність зміни точності та встрат від кроку', fontsize = 20, color = 'g')\n",
        "plt.show()"
      ],
      "execution_count": 54,
      "outputs": [
        {
          "output_type": "display_data",
          "data": {
            "text/plain": [
              "<Figure size 1152x720 with 2 Axes>"
            ],
            "image/png": "[encoded data removed]"
          },
          "metadata": {
            "needs_background": "light"
          }
        }
      ]
    },
    {
      "cell_type": "code",
      "metadata": {
        "id": "LE3g4gDyUSNY",
        "colab": {
          "base_uri": "https://localhost:8080/"
        },
        "outputId": "d08a88f1-b17a-46fd-a233-566620f9118c"
      },
      "source": [
        "# Вычислите точность обученной нейросети\n",
        "\n",
        "pred = neural_net(x_test)\n",
        "print('Точність на тесті:%f'%accuracy(pred,y_test))"
      ],
      "execution_count": 56,
      "outputs": [
        {
          "output_type": "stream",
          "name": "stdout",
          "text": [
            "Точність на тесті:0.652100\n"
          ]
        }
      ]
    },
    {
      "cell_type": "code",
      "metadata": {
        "id": "_EEHAubOUSNY",
        "colab": {
          "base_uri": "https://localhost:8080/",
          "height": 1000
        },
        "outputId": "ed6ccd61-9215-44df-d574-8ce3c9b5b521"
      },
      "source": [
        "# Протестируем обученную нейросеть на 10 изображениях. Из тестовой выборки возьмите 5 \n",
        "# случайных изображений и передайте их в нейронню сеть.\n",
        "# Выведите изображение и выпишите рядом ответ нейросети.\n",
        "# Сделайте вывод о том ошибается ли ваша нейронная сеть и если да, то как часто?\n",
        "\n",
        "\n",
        "import matplotlib.pyplot as plt\n",
        "n_images = 5\n",
        "test_images = x_test[:n_images]\n",
        "predictions = neural_net(test_images)\n",
        "\n",
        "# display\n",
        "for i in range(n_images):\n",
        "    plt.imshow(np.reshape(test_images[i],[28,28]),cmap='gray')\n",
        "    plt.show()\n",
        "    print('Model prediction:%i'%np.argmax(predictions.numpy()[i]))"
      ],
      "execution_count": 57,
      "outputs": [
        {
          "output_type": "display_data",
          "data": {
            "text/plain": [
              "<Figure size 432x288 with 1 Axes>"
            ],
            "image/png": "[encoded data removed]"
          },
          "metadata": {
            "needs_background": "light"
          }
        },
        {
          "output_type": "stream",
          "name": "stdout",
          "text": [
            "Model prediction:7\n"
          ]
        },
        {
          "output_type": "display_data",
          "data": {
            "text/plain": [
              "<Figure size 432x288 with 1 Axes>"
            ],
            "image/png": "[encoded data removed]"
          },
          "metadata": {
            "needs_background": "light"
          }
        },
        {
          "output_type": "stream",
          "name": "stdout",
          "text": [
            "Model prediction:2\n"
          ]
        },
        {
          "output_type": "display_data",
          "data": {
            "text/plain": [
              "<Figure size 432x288 with 1 Axes>"
            ],
            "image/png": "[encoded data removed]"
          },
          "metadata": {
            "needs_background": "light"
          }
        },
        {
          "output_type": "stream",
          "name": "stdout",
          "text": [
            "Model prediction:1\n"
          ]
        },
        {
          "output_type": "display_data",
          "data": {
            "text/plain": [
              "<Figure size 432x288 with 1 Axes>"
            ],
            "image/png": "[encoded data removed]"
          },
          "metadata": {
            "needs_background": "light"
          }
        },
        {
          "output_type": "stream",
          "name": "stdout",
          "text": [
            "Model prediction:5\n"
          ]
        },
        {
          "output_type": "display_data",
          "data": {
            "text/plain": [
              "<Figure size 432x288 with 1 Axes>"
            ],
            "image/png": "[encoded data removed]"
          },
          "metadata": {
            "needs_background": "light"
          }
        },
        {
          "output_type": "stream",
          "name": "stdout",
          "text": [
            "Model prediction:4\n"
          ]
        }
      ]
    }
  ]
}